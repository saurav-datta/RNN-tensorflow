{
 "cells": [
  {
   "cell_type": "markdown",
   "metadata": {},
   "source": [
    "# Assignment 4: Recurrent Neural Network Language Model\n",
    "\n",
    "This is the \"working notebook\", with skeleton code to load and train your model, as well as run unit tests. See [rnnlm-instructions.ipynb](rnnlm-instructions.ipynb) for the main writeup.\n",
    "\n",
    "Run the cell below to import packages."
   ]
  },
  {
   "cell_type": "code",
   "execution_count": 27,
   "metadata": {},
   "outputs": [
    {
     "data": {
      "text/plain": [
       "<module 'rnnlm_test' from '/home/sdatta/w266/assignment/a4/rnnlm_test.py'>"
      ]
     },
     "execution_count": 27,
     "metadata": {},
     "output_type": "execute_result"
    }
   ],
   "source": [
    "from __future__ import absolute_import\n",
    "from __future__ import print_function\n",
    "from __future__ import division\n",
    "\n",
    "import json, os, re, shutil, sys, time\n",
    "from importlib import reload\n",
    "import collections, itertools\n",
    "import unittest\n",
    "from IPython.display import display, HTML\n",
    "\n",
    "# NLTK for NLP utils and corpora\n",
    "import nltk\n",
    "\n",
    "# NumPy and TensorFlow\n",
    "import numpy as np\n",
    "import tensorflow as tf\n",
    "assert(tf.__version__.startswith(\"1.\"))\n",
    "\n",
    "# Helper libraries\n",
    "from w266_common import utils, vocabulary, tf_embed_viz\n",
    "\n",
    "# Your code\n",
    "import rnnlm; reload(rnnlm)\n",
    "import rnnlm_test; reload(rnnlm_test)"
   ]
  },
  {
   "cell_type": "markdown",
   "metadata": {},
   "source": [
    "## (a) RNNLM Inputs and Parameters  \n",
    "\n",
    "### Questions for Part (a)\n",
    "You should use big-O notation when appropriate (i.e. computing $\\exp(\\mathbf{v})$ for a vector $\\mathbf{v}$ of length $n$ is $O(n)$ operations).  Assume for problems a(1-5) that:   \n",
    "> -- Cell is one layer,  \n",
    "> -- the embedding feature length and hidden-layer feature lengths are both H, and   \n",
    "> -- ignore at the moment batch and max_time dimensions.  \n",
    "\n",
    "1. Let $\\text{CellFunc}$ be a simple RNN cell (see async Section 5.8). Write the cell equation in terms of nonlinearities and matrix multiplication. How many parameters (matrix or vector elements) are there for this cell, in terms of `V` and `H`?\n",
    "<p>\n",
    "2. How many parameters are in the embedding layer? In the output layer? (By parameters, we mean total number of matrix elements across all train-able tensors. A $m \\times n$ matrix has $mn$ elements.)\n",
    "<p>\n",
    "3. How many calculations (floating point operations) are required to compute $\\hat{P}(w^{(i+1)})$ for a given *single* target word $w^{(i+1)}$, assuming $w^{(i)}$ given and $h^{(i-1)}$ already computed? How about for *all* target words?\n",
    "<p>\n",
    "4. How does your answer to 3. change if we approximate $\\hat{P}(w^{(i+1)})$ with a sampled softmax with $k$ samples? How about if we use a hierarchical softmax? (*Recall that hierarchical softmax makes a series of left/right decisions using a binary classifier $P_s(\\text{right}) = \\sigma(u_s \\cdot o^{(i)} + b_s)$ at each split $s$ in the tree.*)\n",
    "<p>\n",
    "5. If you have an LSTM with $H = 200$ and use sampled softmax with $k = 100$, what part of the network takes up the most computation time during training? (*Choose \"embedding layer\", \"recurrent layer\", or \"output layer\"*.)\n",
    "\n",
    "Note: for $A \\in \\mathbb{R}^{m \\times n}$ and $B \\in \\mathbb{R}^{n \\times l}$, computing the matrix product $AB$ takes $O(mnl)$ time."
   ]
  },
  {
   "cell_type": "markdown",
   "metadata": {},
   "source": [
    "### Answers for Part (a)\n",
    "\n",
    "####  [Use the Google forms to answer a1) - a5)!]( https://docs.google.com/forms/d/e/1FAIpQLSc7kpuOzErVE_H0vMfsDvFcBHz9dkwXGSzqHUGa70QsTIC1ow/viewform)\n",
    "\n",
    "1 part1) o_i = h_i = tanh( [ x_i, h_{i-1} ] W_cell + b_cell )\n"
   ]
  },
  {
   "cell_type": "markdown",
   "metadata": {},
   "source": [
    "## (b) Implementing the RNNLM\n",
    "\n",
    "### Aside: Shapes Review\n",
    "\n",
    "Before we start, let's review our understanding of the shapes involved in this assignment and how they manifest themselves in the TF API.\n",
    "\n",
    "As in the [instructions](rnnlm-instructions.ipynb) notebook, $w$ is a matrix of wordids with shape batch_size x max_time.  Passing this through the embedding layer, we retrieve the word embedding for each, resulting in $x$ having shape batch_size x max_time x embedding_dim.  I find it useful to draw this out on a piece of paper.  When you do, you should end up with a rectangular prism with batch_size height, max_time width and embedding_dim depth.  Many tensors in this assignment share this shape (e.g. $o$, the output from the LSTM, which represents the hidden layer going into the softmax to make a prediction at every time step in every batch).\n",
    "\n",
    "Since batch size and sentence length are only resolved when we run the graph, we construct the placeholder using \"None\" in the dimensions we don't know.  The .shape property renders these as ?s.  This should be familiar to you from batch size handling in earlier assignments, only now there are two dimensions of variable length.\n",
    "\n",
    "See the next cell for a concrete example (though in practice, we'd use a TensorFlow variable that we can train for the embeddings rather than a static array).  Notice how the shape of x_val matches the shape described earlier in this cell."
   ]
  },
  {
   "cell_type": "code",
   "execution_count": 28,
   "metadata": {},
   "outputs": [
    {
     "name": "stdout",
     "output_type": "stream",
     "text": [
      "wordid placeholder shape: (?, ?)\n",
      "x shape: (?, ?, 3)\n",
      "Embeddings shape: (2, 4, 3)\n",
      "Embeddings value:\n",
      " [[[2 2 2]\n",
      "  [3 3 3]\n",
      "  [2 2 2]\n",
      "  [3 3 3]]\n",
      "\n",
      " [[1 1 1]\n",
      "  [1 1 1]\n",
      "  [1 1 1]\n",
      "  [1 1 1]]]\n"
     ]
    }
   ],
   "source": [
    "tf.reset_default_graph()\n",
    "\n",
    "wordid_ph = tf.placeholder(tf.int32, shape=[None, None])\n",
    "embedding_matrix = np.array([[1, 1, 1], [2, 2, 2], [3, 3, 3]])\n",
    "x = tf.nn.embedding_lookup(embedding_matrix, wordid_ph)\n",
    "\n",
    "print('wordid placeholder shape:', wordid_ph.shape)\n",
    "print('x shape:', x.shape)\n",
    "\n",
    "sess = tf.Session()\n",
    "# Two sentences, each with four words.\n",
    "wordids = [[1, 2, 1, 2], [0, 0, 0, 0]]\n",
    "x_val = sess.run(x, feed_dict={wordid_ph: wordids})\n",
    "print('Embeddings shape:', x_val.shape)  # 2 sentences, 4 words, \n",
    "print('Embeddings value:\\n', x_val)"
   ]
  },
  {
   "cell_type": "markdown",
   "metadata": {},
   "source": [
    "### Implmenting the RNNLM\n",
    "\n",
    "In order to better manage the model parameters, we'll implement our RNNLM in the `RNNLM` class in `rnnlm.py`. We've given you a skeleton of starter code for this, but the bulk of the implementation is left to you."
   ]
  },
  {
   "cell_type": "code",
   "execution_count": 29,
   "metadata": {
    "scrolled": true
   },
   "outputs": [],
   "source": [
    "reload(rnnlm)\n",
    "\n",
    "TF_GRAPHDIR = \"/tmp/w266/a4_graph\"\n",
    "\n",
    "# Clear old log directory.\n",
    "shutil.rmtree(TF_GRAPHDIR, ignore_errors=True)\n",
    "\n",
    "lm = rnnlm.RNNLM(V=10000, H=200, num_layers=2)\n",
    "lm.BuildCoreGraph()\n",
    "lm.BuildTrainGraph()\n",
    "lm.BuildSamplerGraph()\n",
    "\n",
    "summary_writer = tf.summary.FileWriter(TF_GRAPHDIR, lm.graph)"
   ]
  },
  {
   "cell_type": "markdown",
   "metadata": {},
   "source": [
    "The code above will load your implementation, construct the graph, and write a logdir for TensorBoard. You can bring up TensorBoard with:\n",
    "```\n",
    "cd assignment/a4\n",
    "tensorboard --logdir /tmp/w266/a4_graph --port 6006\n",
    "```\n",
    "As usual, check http://localhost:6006/ and visit the \"Graphs\" tab to inspect your implementation. Remember, judicious use of `tf.name_scope()` and/or `tf.variable_scope()` will greatly improve the visualization, and make code easier to debug."
   ]
  },
  {
   "cell_type": "markdown",
   "metadata": {},
   "source": [
    "We've provided a few unit tests below to verify some *very* basic properties of your model."
   ]
  },
  {
   "cell_type": "code",
   "execution_count": 30,
   "metadata": {},
   "outputs": [
    {
     "name": "stderr",
     "output_type": "stream",
     "text": [
      "test_shapes_embed (rnnlm_test.TestRNNLMCore) ... ok\n",
      "test_shapes_output (rnnlm_test.TestRNNLMCore) ... ok\n",
      "test_shapes_recurrent (rnnlm_test.TestRNNLMCore) ... ok\n",
      "test_shapes_train (rnnlm_test.TestRNNLMTrain) ... ok\n",
      "test_shapes_sample (rnnlm_test.TestRNNLMSampler) ... ok\n",
      "\n",
      "----------------------------------------------------------------------\n",
      "Ran 5 tests in 2.057s\n",
      "\n",
      "OK\n"
     ]
    }
   ],
   "source": [
    "reload(rnnlm); reload(rnnlm_test)\n",
    "utils.run_tests(rnnlm_test, [\"TestRNNLMCore\", \"TestRNNLMTrain\", \"TestRNNLMSampler\"])"
   ]
  },
  {
   "cell_type": "markdown",
   "metadata": {},
   "source": [
    "Note that the error messages are intentionally somewhat spare, and that passing tests are no guarantee of model correctness! Your best chance of success is through careful coding and understanding of how the model works."
   ]
  },
  {
   "cell_type": "markdown",
   "metadata": {},
   "source": [
    "## (c) Training your RNNLM (5 points)\n",
    "\n",
    "We'll give you data loader functions in **`utils.py`**. They work similarly to the loaders in the Week 5 notebook.\n",
    "\n",
    "Particularly, `utils.rnnlm_batch_generator` will return an iterator that yields minibatches in the correct format. Batches will be of size `[batch_size, max_time]`, and consecutive batches will line up along rows so that the final state $h^{\\text{final}}$ of one batch can be used as the initial state $h^{\\text{init}}$ for the next.\n",
    "\n",
    "For example, using a toy corpus:  \n",
    "*(Ignore the ugly formatter code.)*"
   ]
  },
  {
   "cell_type": "code",
   "execution_count": 31,
   "metadata": {},
   "outputs": [
    {
     "data": {
      "text/html": [
       "<h3>Input words w:</h3><table><tr><th>Batch 0</th><th>Batch 1</th></tr><tr><td><div>\n",
       "<style scoped>\n",
       "    .dataframe tbody tr th:only-of-type {\n",
       "        vertical-align: middle;\n",
       "    }\n",
       "\n",
       "    .dataframe tbody tr th {\n",
       "        vertical-align: top;\n",
       "    }\n",
       "\n",
       "    .dataframe thead th {\n",
       "        text-align: right;\n",
       "    }\n",
       "</style>\n",
       "<table border=\"1\" class=\"dataframe\">\n",
       "  <thead>\n",
       "    <tr style=\"text-align: right;\">\n",
       "      <th></th>\n",
       "      <th>w_0</th>\n",
       "      <th>w_1</th>\n",
       "      <th>w_2</th>\n",
       "      <th>w_3</th>\n",
       "    </tr>\n",
       "  </thead>\n",
       "  <tbody>\n",
       "    <tr>\n",
       "      <th>0</th>\n",
       "      <td>&lt;s&gt;</td>\n",
       "      <td>Mary</td>\n",
       "      <td>had</td>\n",
       "      <td>a</td>\n",
       "    </tr>\n",
       "    <tr>\n",
       "      <th>1</th>\n",
       "      <td>&lt;s&gt;</td>\n",
       "      <td>The</td>\n",
       "      <td>lamb</td>\n",
       "      <td>was</td>\n",
       "    </tr>\n",
       "  </tbody>\n",
       "</table>\n",
       "</div></td><td><div>\n",
       "<style scoped>\n",
       "    .dataframe tbody tr th:only-of-type {\n",
       "        vertical-align: middle;\n",
       "    }\n",
       "\n",
       "    .dataframe tbody tr th {\n",
       "        vertical-align: top;\n",
       "    }\n",
       "\n",
       "    .dataframe thead th {\n",
       "        text-align: right;\n",
       "    }\n",
       "</style>\n",
       "<table border=\"1\" class=\"dataframe\">\n",
       "  <thead>\n",
       "    <tr style=\"text-align: right;\">\n",
       "      <th></th>\n",
       "      <th>w_0</th>\n",
       "      <th>w_1</th>\n",
       "      <th>w_2</th>\n",
       "    </tr>\n",
       "  </thead>\n",
       "  <tbody>\n",
       "    <tr>\n",
       "      <th>0</th>\n",
       "      <td>little</td>\n",
       "      <td>lamb</td>\n",
       "      <td>.</td>\n",
       "    </tr>\n",
       "    <tr>\n",
       "      <th>1</th>\n",
       "      <td>white</td>\n",
       "      <td>as</td>\n",
       "      <td>snow</td>\n",
       "    </tr>\n",
       "  </tbody>\n",
       "</table>\n",
       "</div></td></tr></table>"
      ],
      "text/plain": [
       "<IPython.core.display.HTML object>"
      ]
     },
     "metadata": {},
     "output_type": "display_data"
    },
    {
     "data": {
      "text/html": [
       "<h3>Target words y:</h3><table><tr><th>Batch 0</th><th>Batch 1</th></tr><tr><td><div>\n",
       "<style scoped>\n",
       "    .dataframe tbody tr th:only-of-type {\n",
       "        vertical-align: middle;\n",
       "    }\n",
       "\n",
       "    .dataframe tbody tr th {\n",
       "        vertical-align: top;\n",
       "    }\n",
       "\n",
       "    .dataframe thead th {\n",
       "        text-align: right;\n",
       "    }\n",
       "</style>\n",
       "<table border=\"1\" class=\"dataframe\">\n",
       "  <thead>\n",
       "    <tr style=\"text-align: right;\">\n",
       "      <th></th>\n",
       "      <th>y_0</th>\n",
       "      <th>y_1</th>\n",
       "      <th>y_2</th>\n",
       "      <th>y_3</th>\n",
       "    </tr>\n",
       "  </thead>\n",
       "  <tbody>\n",
       "    <tr>\n",
       "      <th>0</th>\n",
       "      <td>Mary</td>\n",
       "      <td>had</td>\n",
       "      <td>a</td>\n",
       "      <td>little</td>\n",
       "    </tr>\n",
       "    <tr>\n",
       "      <th>1</th>\n",
       "      <td>The</td>\n",
       "      <td>lamb</td>\n",
       "      <td>was</td>\n",
       "      <td>white</td>\n",
       "    </tr>\n",
       "  </tbody>\n",
       "</table>\n",
       "</div></td><td><div>\n",
       "<style scoped>\n",
       "    .dataframe tbody tr th:only-of-type {\n",
       "        vertical-align: middle;\n",
       "    }\n",
       "\n",
       "    .dataframe tbody tr th {\n",
       "        vertical-align: top;\n",
       "    }\n",
       "\n",
       "    .dataframe thead th {\n",
       "        text-align: right;\n",
       "    }\n",
       "</style>\n",
       "<table border=\"1\" class=\"dataframe\">\n",
       "  <thead>\n",
       "    <tr style=\"text-align: right;\">\n",
       "      <th></th>\n",
       "      <th>y_0</th>\n",
       "      <th>y_1</th>\n",
       "      <th>y_2</th>\n",
       "    </tr>\n",
       "  </thead>\n",
       "  <tbody>\n",
       "    <tr>\n",
       "      <th>0</th>\n",
       "      <td>lamb</td>\n",
       "      <td>.</td>\n",
       "      <td>&lt;s&gt;</td>\n",
       "    </tr>\n",
       "    <tr>\n",
       "      <th>1</th>\n",
       "      <td>as</td>\n",
       "      <td>snow</td>\n",
       "      <td>.</td>\n",
       "    </tr>\n",
       "  </tbody>\n",
       "</table>\n",
       "</div></td></tr></table>"
      ],
      "text/plain": [
       "<IPython.core.display.HTML object>"
      ]
     },
     "metadata": {},
     "output_type": "display_data"
    }
   ],
   "source": [
    "toy_corpus = \"<s> Mary had a little lamb . <s> The lamb was white as snow . <s>\"\n",
    "toy_corpus = np.array(toy_corpus.split())\n",
    "\n",
    "html = \"<h3>Input words w:</h3>\"\n",
    "html += \"<table><tr><th>Batch 0</th><th>Batch 1</th></tr><tr>\"\n",
    "bi = utils.rnnlm_batch_generator(toy_corpus, batch_size=2, max_time=4)\n",
    "for i, (w,y) in enumerate(bi):\n",
    "    cols = [\"w_%d\" % d for d in range(w.shape[1])]\n",
    "    html += \"<td>{:s}</td>\".format(utils.render_matrix(w, cols=cols, dtype=object))\n",
    "html += \"</tr></table>\"\n",
    "display(HTML(html))\n",
    "\n",
    "html = \"<h3>Target words y:</h3>\"\n",
    "html += \"<table><tr><th>Batch 0</th><th>Batch 1</th></tr><tr>\"\n",
    "bi = utils.rnnlm_batch_generator(toy_corpus, batch_size=2, max_time=4)\n",
    "for i, (w,y) in enumerate(bi):\n",
    "    cols = [\"y_%d\" % d for d in range(y.shape[1])]\n",
    "    html += \"<td>{:s}</td>\".format(utils.render_matrix(y, cols=cols, dtype=object))\n",
    "html += \"</tr></table>\"\n",
    "display(HTML(html))"
   ]
  },
  {
   "cell_type": "markdown",
   "metadata": {},
   "source": [
    "Note that the data we feed to our model will be word indices, but the shape will be the same."
   ]
  },
  {
   "cell_type": "markdown",
   "metadata": {},
   "source": [
    "### 1. Implement the `run_epoch` function\n",
    "We've given you some starter code for logging progress; fill this in with actual call(s) to `session.run` with the appropriate arguments to run a training step. \n",
    "\n",
    "Be sure to handle the initial state properly at the beginning of an epoch, and remember to carry over the final state from each batch and use it as the initial state for the next.\n",
    "\n",
    "**Note:** we provide a `train=True` flag to enable train mode. If `train=False`, this function can also be used for scoring the dataset - see `score_dataset()` below."
   ]
  },
  {
   "cell_type": "code",
   "execution_count": 32,
   "metadata": {},
   "outputs": [],
   "source": [
    "def run_epoch(lm, session, batch_iterator,\n",
    "              train=False, verbose=False,\n",
    "              tick_s=10, learning_rate=None):\n",
    "    assert(learning_rate is not None)\n",
    "    start_time = time.time()\n",
    "    tick_time = start_time  # for showing status\n",
    "    total_cost = 0.0  # total cost, summed over all words\n",
    "    total_batches = 0\n",
    "    total_words = 0\n",
    "\n",
    "    if train:\n",
    "        train_op = lm.train_step_\n",
    "        use_dropout = True\n",
    "        loss = lm.train_loss_\n",
    "    else:\n",
    "        train_op = tf.no_op()\n",
    "        use_dropout = False  # no dropout at test time\n",
    "        loss = lm.loss_  # true loss, if train_loss is an approximation\n",
    "\n",
    "    for i, (w, y) in enumerate(batch_iterator):\n",
    "        cost = 0.0\n",
    "        # At first batch in epoch, get a clean intitial state.\n",
    "        if i == 0:\n",
    "            h = session.run(lm.initial_h_, {lm.input_w_: w})\n",
    "\n",
    "        #### YOUR CODE HERE ####\n",
    "        feed_dict = {\n",
    "            lm.input_w_: w,\n",
    "            lm.target_y_: y,\n",
    "            lm.initial_h_: h,\n",
    "            lm.learning_rate_: learning_rate,\n",
    "            lm.use_dropout_: use_dropout\n",
    "        }\n",
    "        \n",
    "        cost, _, h = session.run(\n",
    "            [loss, train_op, lm.final_h_],\n",
    "            feed_dict=feed_dict\n",
    "        )\n",
    "\n",
    "\n",
    "        #### END(YOUR CODE) ####\n",
    "        total_cost += cost\n",
    "        total_batches = i + 1\n",
    "        total_words += w.size  # w.size = batch_size * max_time\n",
    "\n",
    "        ##\n",
    "        # Print average loss-so-far for epoch\n",
    "        # If using train_loss_, this may be an underestimate.\n",
    "        if verbose and (time.time() - tick_time >= tick_s):\n",
    "            avg_cost = total_cost / total_batches\n",
    "            avg_wps = total_words / (time.time() - start_time)\n",
    "            print(\"[batch {:d}]: seen {:d} words at {:.1f} wps, loss = {:.3f}\".format(\n",
    "                i, total_words, avg_wps, avg_cost))\n",
    "            tick_time = time.time()  # reset time ticker\n",
    "\n",
    "    return total_cost / total_batches"
   ]
  },
  {
   "cell_type": "code",
   "execution_count": 33,
   "metadata": {},
   "outputs": [],
   "source": [
    "def score_dataset(lm, session, ids, name=\"Data\"):\n",
    "    # For scoring, we can use larger batches to speed things up.\n",
    "    bi = utils.rnnlm_batch_generator(ids, batch_size=100, max_time=100)\n",
    "    cost = run_epoch(lm, session, bi, \n",
    "                     learning_rate=0.0, train=False, \n",
    "                     verbose=False, tick_s=3600)\n",
    "    print(\"{:s}: avg. loss: {:.03f}  (perplexity: {:.02f})\".format(name, cost, np.exp(cost)))\n",
    "    return cost"
   ]
  },
  {
   "cell_type": "markdown",
   "metadata": {},
   "source": [
    "You can use the cell below to verify your implementation of `run_epoch`, and to test your RNN on a (very simple) toy dataset:"
   ]
  },
  {
   "cell_type": "code",
   "execution_count": 34,
   "metadata": {},
   "outputs": [
    {
     "name": "stderr",
     "output_type": "stream",
     "text": [
      "test_toy_model (rnnlm_test.RunEpochTester) ... "
     ]
    },
    {
     "name": "stdout",
     "output_type": "stream",
     "text": [
      "[batch 98]: seen 4950 words at 4915.5 wps, loss = 1.048\n",
      "[batch 211]: seen 10600 words at 5275.5 wps, loss = 0.891\n",
      "[batch 323]: seen 16200 words at 5378.3 wps, loss = 0.800\n",
      "[batch 434]: seen 21750 words at 5413.0 wps, loss = 0.743\n",
      "[batch 545]: seen 27300 words at 5434.6 wps, loss = 0.766\n",
      "[batch 654]: seen 32750 words at 5430.8 wps, loss = 0.871\n",
      "[batch 761]: seen 38100 words at 5418.5 wps, loss = 1.057\n",
      "[batch 871]: seen 43600 words at 5423.5 wps, loss = 1.075\n",
      "[batch 978]: seen 48950 words at 5410.8 wps, loss = 1.054\n",
      "[batch 1091]: seen 54600 words at 5432.2 wps, loss = 1.065\n",
      "[batch 1205]: seen 60300 words at 5456.1 wps, loss = 1.056\n",
      "[batch 1317]: seen 65900 words at 5465.5 wps, loss = 1.039\n",
      "[batch 1424]: seen 71250 words at 5453.8 wps, loss = 1.039\n",
      "[batch 1534]: seen 76750 words at 5454.1 wps, loss = 1.044\n",
      "[batch 1650]: seen 82550 words at 5476.9 wps, loss = 1.032\n",
      "[batch 1768]: seen 88450 words at 5500.8 wps, loss = 1.027\n",
      "[batch 1880]: seen 94050 words at 5505.3 wps, loss = 1.022\n",
      "[batch 1991]: seen 99600 words at 5506.3 wps, loss = 1.021\n",
      "[batch 2101]: seen 105100 words at 5504.1 wps, loss = 1.014\n",
      "[batch 2212]: seen 110650 words at 5505.6 wps, loss = 1.008\n",
      "[batch 2328]: seen 116450 words at 5517.6 wps, loss = 1.000\n",
      "[batch 2443]: seen 122200 words at 5526.9 wps, loss = 1.000\n",
      "[batch 2557]: seen 127900 words at 5532.8 wps, loss = 1.000\n",
      "[batch 2671]: seen 133600 words at 5538.6 wps, loss = 0.994\n",
      "[batch 2780]: seen 139050 words at 5534.6 wps, loss = 0.995\n",
      "[batch 2900]: seen 145050 words at 5550.9 wps, loss = 0.991\n",
      "[batch 3025]: seen 151300 words at 5575.3 wps, loss = 0.985\n",
      "[batch 3151]: seen 157600 words at 5601.0 wps, loss = 0.979\n",
      "[batch 3267]: seen 163400 words at 5606.3 wps, loss = 0.973\n",
      "[batch 3385]: seen 169300 words at 5615.5 wps, loss = 0.976\n",
      "[batch 3504]: seen 175250 words at 5626.2 wps, loss = 0.975\n",
      "[batch 3622]: seen 181150 words at 5633.2 wps, loss = 0.977\n",
      "[batch 3737]: seen 186900 words at 5636.1 wps, loss = 0.979\n",
      "[batch 3855]: seen 192800 words at 5643.1 wps, loss = 0.977\n",
      "[batch 3972]: seen 198650 words at 5648.3 wps, loss = 0.979\n",
      "Train set: avg. loss: 0.061  (perplexity: 1.06)\n",
      "Test set: avg. loss: 0.071  (perplexity: 1.07)\n"
     ]
    },
    {
     "name": "stderr",
     "output_type": "stream",
     "text": [
      "ok\n",
      "\n",
      "----------------------------------------------------------------------\n",
      "Ran 1 test in 36.889s\n",
      "\n",
      "OK\n"
     ]
    },
    {
     "data": {
      "text/plain": [
       "<unittest.runner.TextTestResult run=1 errors=0 failures=0>"
      ]
     },
     "execution_count": 34,
     "metadata": {},
     "output_type": "execute_result"
    }
   ],
   "source": [
    "reload(rnnlm); reload(rnnlm_test)\n",
    "th = rnnlm_test.RunEpochTester(\"test_toy_model\")\n",
    "th.setUp(); th.injectCode(run_epoch, score_dataset)\n",
    "unittest.TextTestRunner(verbosity=2).run(th)"
   ]
  },
  {
   "cell_type": "markdown",
   "metadata": {},
   "source": [
    "Note that as above, this is a *very* simple test case that does not guarantee model correctness."
   ]
  },
  {
   "cell_type": "markdown",
   "metadata": {},
   "source": [
    "### 2. Run Training\n",
    "\n",
    "We'll give you the outline of the training procedure, but you'll need to fill in a call to your `run_epoch` function. \n",
    "\n",
    "At the end of training, we use a `tf.train.Saver` to save a copy of the model to `/tmp/w266/a4_model/rnnlm_trained`. You'll want to load this from disk to work on later parts of the assignment; see **part (d)** for an example of how this is done.\n",
    "\n",
    "#### Tuning Hyperparameters\n",
    "With a sampled softmax loss, the default hyperparameters should train 5 epochs in around 15 minutes on a single-core GCE instance, and reach a training set perplexity between 120-140.\n",
    "\n",
    "However, it's possible to do significantly better. Try experimenting with multiple RNN layers (`num_layers` > 1) or a larger hidden state - though you may also need to adjust the learning rate and number of epochs for a larger model.\n",
    "\n",
    "You can also experiment with a larger vocabulary. This will look worse for perplexity, but will be a better model overall as it won't treat so many words as `<unk>`.\n",
    "\n",
    "#### Notes on Speed\n",
    "\n",
    "To speed things up, you may want to re-start your GCE instance with more CPUs. Using a 16-core machine will train *very* quickly if using a sampled softmax lost, almost as fast as a GPU. (Because of the sequential nature of the model, GPUs aren't actually much faster than CPUs for training and running RNNs.) The training code will print the words-per-second processed; with the default settings on a single core, you can expect around 8000 WPS, or up to more than 25000 WPS on a fast multi-core machine.\n",
    "\n",
    "You might also want to modify the code below to only run score_dataset at the very end, after all epochs are completed. This will speed things up significantly, since `score_dataset` uses the full softmax loss - and so often can take longer than a whole training epoch!\n",
    "\n",
    "#### Submitting your model\n",
    "You should submit your trained model along with the assignment. Do:\n",
    "```\n",
    "cp /tmp/w266/a4_model/rnnlm_trained* .\n",
    "git add rnnlm_trained*\n",
    "git commit -m \"Adding trained model.\"\n",
    "```\n",
    "Unless you train a very large model, these files should be < 50 MB and no problem for git to handle. If you do also train a large model, please only submit the smaller one."
   ]
  },
  {
   "cell_type": "code",
   "execution_count": 35,
   "metadata": {},
   "outputs": [
    {
     "name": "stdout",
     "output_type": "stream",
     "text": [
      "[nltk_data] Downloading package brown to /home/sdatta/nltk_data...\n",
      "[nltk_data]   Package brown is already up-to-date!\n",
      "Vocabulary: 10,000 types\n",
      "Loaded 57,340 sentences (1.16119e+06 tokens)\n",
      "Training set: 45,872 sentences (924,077 tokens)\n",
      "Test set: 11,468 sentences (237,115 tokens)\n"
     ]
    }
   ],
   "source": [
    "# Load the dataset\n",
    "V = 10000\n",
    "vocab, train_ids, test_ids = utils.load_corpus(\"brown\", split=0.8, V=V, shuffle=42)"
   ]
  },
  {
   "cell_type": "code",
   "execution_count": 40,
   "metadata": {},
   "outputs": [],
   "source": [
    "# Training parameters\n",
    "max_time = 25\n",
    "batch_size = 100\n",
    "learning_rate = 0.01\n",
    "num_epochs = 10\n",
    "\n",
    "# Model parameters\n",
    "model_params = dict(V=vocab.size, \n",
    "                    H=200, \n",
    "                    softmax_ns=200,\n",
    "                    num_layers=2)\n",
    "\n",
    "TF_SAVEDIR = \"/tmp/w266/a4_model\"\n",
    "checkpoint_filename = os.path.join(TF_SAVEDIR, \"rnnlm\")\n",
    "trained_filename = os.path.join(TF_SAVEDIR, \"rnnlm_trained\")"
   ]
  },
  {
   "cell_type": "code",
   "execution_count": 41,
   "metadata": {},
   "outputs": [
    {
     "name": "stdout",
     "output_type": "stream",
     "text": [
      "[epoch 1] Starting epoch 1\n",
      "[batch 73]: seen 185000 words at 18458.5 wps, loss = 5.417\n",
      "[batch 147]: seen 370000 words at 18444.3 wps, loss = 5.026\n",
      "[batch 221]: seen 555000 words at 18447.0 wps, loss = 4.834\n",
      "[batch 295]: seen 740000 words at 18427.2 wps, loss = 4.713\n",
      "[batch 369]: seen 925000 words at 18418.4 wps, loss = 4.624\n",
      "[epoch 1] Completed in 0:00:52\n",
      "[epoch 1] Train set: avg. loss: 5.410  (perplexity: 223.66)\n",
      "[epoch 1] Test set: avg. loss: 5.449  (perplexity: 232.52)\n",
      "\n",
      "[epoch 2] Starting epoch 2\n",
      "[batch 74]: seen 187500 words at 18561.7 wps, loss = 4.175\n",
      "[batch 148]: seen 372500 words at 18505.5 wps, loss = 4.148\n",
      "[batch 223]: seen 560000 words at 18504.6 wps, loss = 4.122\n",
      "[batch 297]: seen 745000 words at 18480.6 wps, loss = 4.101\n",
      "[batch 371]: seen 930000 words at 18466.9 wps, loss = 4.085\n",
      "[epoch 2] Completed in 0:00:52\n",
      "[epoch 2] Train set: avg. loss: 5.219  (perplexity: 184.66)\n",
      "[epoch 2] Test set: avg. loss: 5.273  (perplexity: 194.95)\n",
      "\n",
      "[epoch 3] Starting epoch 3\n",
      "[batch 73]: seen 185000 words at 18477.6 wps, loss = 4.000\n",
      "[batch 148]: seen 372500 words at 18489.2 wps, loss = 3.974\n",
      "[batch 222]: seen 557500 words at 18442.7 wps, loss = 3.958\n",
      "[batch 296]: seen 742500 words at 18426.0 wps, loss = 3.949\n",
      "[batch 370]: seen 927500 words at 18426.3 wps, loss = 3.941\n",
      "[epoch 3] Completed in 0:00:52\n",
      "[epoch 3] Train set: avg. loss: 5.118  (perplexity: 166.94)\n",
      "[epoch 3] Test set: avg. loss: 5.185  (perplexity: 178.51)\n",
      "\n",
      "[epoch 4] Starting epoch 4\n",
      "[batch 74]: seen 187500 words at 18677.9 wps, loss = 3.885\n",
      "[batch 149]: seen 375000 words at 18632.0 wps, loss = 3.873\n",
      "[batch 224]: seen 562500 words at 18607.1 wps, loss = 3.865\n",
      "[batch 299]: seen 750000 words at 18607.6 wps, loss = 3.857\n",
      "[batch 374]: seen 937500 words at 18600.6 wps, loss = 3.854\n",
      "[epoch 4] Completed in 0:00:52\n",
      "[epoch 4] Train set: avg. loss: 5.035  (perplexity: 153.64)\n",
      "[epoch 4] Test set: avg. loss: 5.114  (perplexity: 166.36)\n",
      "\n",
      "[epoch 5] Starting epoch 5\n",
      "[batch 74]: seen 187500 words at 18637.2 wps, loss = 3.811\n",
      "[batch 149]: seen 375000 words at 18671.0 wps, loss = 3.801\n",
      "[batch 224]: seen 562500 words at 18691.4 wps, loss = 3.800\n",
      "[batch 299]: seen 750000 words at 18702.0 wps, loss = 3.795\n",
      "[batch 374]: seen 937500 words at 18681.0 wps, loss = 3.792\n",
      "[epoch 5] Completed in 0:00:51\n",
      "[epoch 5] Train set: avg. loss: 4.979  (perplexity: 145.34)\n",
      "[epoch 5] Test set: avg. loss: 5.071  (perplexity: 159.35)\n",
      "\n",
      "[epoch 6] Starting epoch 6\n",
      "[batch 75]: seen 190000 words at 18752.8 wps, loss = 3.765\n",
      "[batch 150]: seen 377500 words at 18746.3 wps, loss = 3.757\n",
      "[batch 225]: seen 565000 words at 18743.2 wps, loss = 3.753\n",
      "[batch 300]: seen 752500 words at 18741.5 wps, loss = 3.752\n",
      "[batch 375]: seen 940000 words at 18722.7 wps, loss = 3.750\n",
      "[epoch 6] Completed in 0:00:51\n",
      "[epoch 6] Train set: avg. loss: 4.928  (perplexity: 138.11)\n",
      "[epoch 6] Test set: avg. loss: 5.031  (perplexity: 153.06)\n",
      "\n",
      "[epoch 7] Starting epoch 7\n",
      "[batch 74]: seen 187500 words at 18525.2 wps, loss = 3.724\n",
      "[batch 148]: seen 372500 words at 18512.0 wps, loss = 3.721\n",
      "[batch 222]: seen 557500 words at 18486.6 wps, loss = 3.719\n",
      "[batch 297]: seen 745000 words at 18506.9 wps, loss = 3.716\n",
      "[batch 372]: seen 932500 words at 18520.2 wps, loss = 3.715\n",
      "[epoch 7] Completed in 0:00:52\n",
      "[epoch 7] Train set: avg. loss: 4.904  (perplexity: 134.84)\n",
      "[epoch 7] Test set: avg. loss: 5.014  (perplexity: 150.48)\n",
      "\n",
      "[epoch 8] Starting epoch 8\n",
      "[batch 74]: seen 187500 words at 18509.0 wps, loss = 3.694\n",
      "[batch 148]: seen 372500 words at 18486.4 wps, loss = 3.691\n",
      "[batch 223]: seen 560000 words at 18506.8 wps, loss = 3.690\n",
      "[batch 297]: seen 745000 words at 18494.1 wps, loss = 3.689\n",
      "[batch 371]: seen 930000 words at 18491.4 wps, loss = 3.688\n",
      "[epoch 8] Completed in 0:00:52\n",
      "[epoch 8] Train set: avg. loss: 4.862  (perplexity: 129.24)\n",
      "[epoch 8] Test set: avg. loss: 4.986  (perplexity: 146.33)\n",
      "\n",
      "[epoch 9] Starting epoch 9\n",
      "[batch 74]: seen 187500 words at 18535.3 wps, loss = 3.675\n",
      "[batch 149]: seen 375000 words at 18572.0 wps, loss = 3.669\n",
      "[batch 224]: seen 562500 words at 18575.4 wps, loss = 3.667\n",
      "[batch 299]: seen 750000 words at 18560.9 wps, loss = 3.667\n",
      "[batch 374]: seen 937500 words at 18560.7 wps, loss = 3.665\n",
      "[epoch 9] Completed in 0:00:52\n",
      "[epoch 9] Train set: avg. loss: 4.833  (perplexity: 125.58)\n",
      "[epoch 9] Test set: avg. loss: 4.967  (perplexity: 143.64)\n",
      "\n",
      "[epoch 10] Starting epoch 10\n",
      "[batch 74]: seen 187500 words at 18684.1 wps, loss = 3.647\n",
      "[batch 149]: seen 375000 words at 18688.8 wps, loss = 3.646\n",
      "[batch 224]: seen 562500 words at 18678.5 wps, loss = 3.644\n",
      "[batch 299]: seen 750000 words at 18685.9 wps, loss = 3.643\n",
      "[batch 374]: seen 937500 words at 18683.8 wps, loss = 3.642\n",
      "[epoch 10] Completed in 0:00:51\n",
      "[epoch 10] Train set: avg. loss: 4.809  (perplexity: 122.66)\n",
      "[epoch 10] Test set: avg. loss: 4.954  (perplexity: 141.75)\n",
      "\n"
     ]
    }
   ],
   "source": [
    "# Will print status every this many seconds\n",
    "print_interval = 5\n",
    "\n",
    "lm = rnnlm.RNNLM(**model_params)\n",
    "lm.BuildCoreGraph()\n",
    "lm.BuildTrainGraph()\n",
    "\n",
    "# Explicitly add global initializer and variable saver to LM graph\n",
    "with lm.graph.as_default():\n",
    "    initializer = tf.global_variables_initializer()\n",
    "    saver = tf.train.Saver()\n",
    "    \n",
    "# Clear old log directory\n",
    "shutil.rmtree(TF_SAVEDIR, ignore_errors=True)\n",
    "if not os.path.isdir(TF_SAVEDIR):\n",
    "    os.makedirs(TF_SAVEDIR)\n",
    "\n",
    "with tf.Session(graph=lm.graph) as session:\n",
    "    # Seed RNG for repeatability\n",
    "    tf.set_random_seed(42)\n",
    "\n",
    "    session.run(initializer)\n",
    "\n",
    "    for epoch in range(1,num_epochs+1):\n",
    "        t0_epoch = time.time()\n",
    "        bi = utils.rnnlm_batch_generator(train_ids, batch_size, max_time)\n",
    "        print(\"[epoch {:d}] Starting epoch {:d}\".format(epoch, epoch))\n",
    "        #### YOUR CODE HERE ####\n",
    "        # Run a training epoch.\n",
    "        #TODO : Vary tick_s\n",
    "        run_epoch(lm, session, batch_iterator = bi,\n",
    "              train=True, verbose=True,\n",
    "              tick_s=10, learning_rate=learning_rate)\n",
    "\n",
    "        #### END(YOUR CODE) ####\n",
    "        print(\"[epoch {:d}] Completed in {:s}\".format(epoch, utils.pretty_timedelta(since=t0_epoch)))\n",
    "    \n",
    "        # Save a checkpoint\n",
    "        saver.save(session, checkpoint_filename, global_step=epoch)\n",
    "    \n",
    "        ##\n",
    "        # score_dataset will run a forward pass over the entire dataset\n",
    "        # and report perplexity scores. This can be slow (around 1/2 to \n",
    "        # 1/4 as long as a full epoch), so you may want to comment it out\n",
    "        # to speed up training on a slow machine. Be sure to run it at the \n",
    "        # end to evaluate your score.\n",
    "        print(\"[epoch {:d}]\".format(epoch), end=\" \")\n",
    "        score_dataset(lm, session, train_ids, name=\"Train set\")\n",
    "        print(\"[epoch {:d}]\".format(epoch), end=\" \")\n",
    "        score_dataset(lm, session, test_ids, name=\"Test set\")\n",
    "        print(\"\")\n",
    "    \n",
    "    # Save final model\n",
    "    saver.save(session, trained_filename)"
   ]
  },
  {
   "cell_type": "markdown",
   "metadata": {},
   "source": [
    "#### Trying with 3 layers"
   ]
  },
  {
   "cell_type": "code",
   "execution_count": 38,
   "metadata": {},
   "outputs": [],
   "source": [
    "# Training parameters\n",
    "max_time = 25\n",
    "batch_size = 100\n",
    "learning_rate = 0.01\n",
    "num_epochs = 10\n",
    "\n",
    "# Model parameters\n",
    "model_params = dict(V=vocab.size, \n",
    "                    H=200, \n",
    "                    softmax_ns=200,\n",
    "                    num_layers=3)\n",
    "\n",
    "TF_SAVEDIR = \"/home/sdatta/w266/assignment/a4_trained_model_numLayers3\"\n",
    "checkpoint_filename = os.path.join(TF_SAVEDIR, \"rnnlm\")\n",
    "trained_filename = os.path.join(TF_SAVEDIR, \"rnnlm_trained\")"
   ]
  },
  {
   "cell_type": "code",
   "execution_count": 39,
   "metadata": {},
   "outputs": [
    {
     "name": "stdout",
     "output_type": "stream",
     "text": [
      "[epoch 1] Starting epoch 1\n",
      "[batch 61]: seen 155000 words at 15496.3 wps, loss = 5.779\n",
      "[batch 122]: seen 307500 words at 15338.6 wps, loss = 5.270\n",
      "[batch 183]: seen 460000 words at 15296.6 wps, loss = 5.050\n",
      "[batch 244]: seen 612500 words at 15276.4 wps, loss = 4.907\n",
      "[batch 305]: seen 765000 words at 15255.7 wps, loss = 4.806\n",
      "[batch 366]: seen 917500 words at 15243.0 wps, loss = 4.726\n",
      "[epoch 1] Completed in 0:01:03\n",
      "[epoch 1] Train set: avg. loss: 5.504  (perplexity: 245.78)\n",
      "[epoch 1] Test set: avg. loss: 5.537  (perplexity: 253.85)\n",
      "\n",
      "[epoch 2] Starting epoch 2\n",
      "[batch 60]: seen 152500 words at 15189.4 wps, loss = 4.251\n",
      "[batch 121]: seen 305000 words at 15190.3 wps, loss = 4.224\n",
      "[batch 182]: seen 457500 words at 15172.0 wps, loss = 4.207\n",
      "[batch 243]: seen 610000 words at 15177.7 wps, loss = 4.187\n",
      "[batch 304]: seen 762500 words at 15176.8 wps, loss = 4.173\n",
      "[batch 365]: seen 915000 words at 15183.3 wps, loss = 4.161\n",
      "[epoch 2] Completed in 0:01:03\n",
      "[epoch 2] Train set: avg. loss: 5.336  (perplexity: 207.65)\n",
      "[epoch 2] Test set: avg. loss: 5.382  (perplexity: 217.39)\n",
      "\n",
      "[epoch 3] Starting epoch 3\n",
      "[batch 60]: seen 152500 words at 15166.0 wps, loss = 4.078\n",
      "[batch 121]: seen 305000 words at 15180.2 wps, loss = 4.059\n",
      "[batch 182]: seen 457500 words at 15191.1 wps, loss = 4.047\n",
      "[batch 243]: seen 610000 words at 15200.0 wps, loss = 4.038\n",
      "[batch 304]: seen 762500 words at 15204.4 wps, loss = 4.029\n",
      "[batch 366]: seen 917500 words at 15213.4 wps, loss = 4.022\n",
      "[epoch 3] Completed in 0:01:03\n",
      "[epoch 3] Train set: avg. loss: 5.224  (perplexity: 185.60)\n",
      "[epoch 3] Test set: avg. loss: 5.279  (perplexity: 196.24)\n",
      "\n",
      "[epoch 4] Starting epoch 4\n",
      "[batch 60]: seen 152500 words at 15235.7 wps, loss = 3.962\n",
      "[batch 121]: seen 305000 words at 15178.2 wps, loss = 3.952\n",
      "[batch 183]: seen 460000 words at 15206.3 wps, loss = 3.947\n",
      "[batch 245]: seen 615000 words at 15224.6 wps, loss = 3.942\n",
      "[batch 307]: seen 770000 words at 15233.8 wps, loss = 3.936\n",
      "[batch 369]: seen 925000 words at 15236.6 wps, loss = 3.932\n",
      "[epoch 4] Completed in 0:01:03\n",
      "[epoch 4] Train set: avg. loss: 5.161  (perplexity: 174.37)\n",
      "[epoch 4] Test set: avg. loss: 5.228  (perplexity: 186.40)\n",
      "\n",
      "[epoch 5] Starting epoch 5\n",
      "[batch 60]: seen 152500 words at 15241.4 wps, loss = 3.900\n",
      "[batch 121]: seen 305000 words at 15237.8 wps, loss = 3.886\n",
      "[batch 183]: seen 460000 words at 15251.6 wps, loss = 3.884\n",
      "[batch 244]: seen 612500 words at 15247.4 wps, loss = 3.882\n",
      "[batch 306]: seen 767500 words at 15250.4 wps, loss = 3.879\n",
      "[batch 367]: seen 920000 words at 15236.8 wps, loss = 3.876\n",
      "[epoch 5] Completed in 0:01:03\n",
      "[epoch 5] Train set: avg. loss: 5.105  (perplexity: 164.78)\n",
      "[epoch 5] Test set: avg. loss: 5.182  (perplexity: 178.03)\n",
      "\n",
      "[epoch 6] Starting epoch 6\n",
      "[batch 60]: seen 152500 words at 15206.9 wps, loss = 3.852\n",
      "[batch 121]: seen 305000 words at 15195.6 wps, loss = 3.839\n",
      "[batch 182]: seen 457500 words at 15197.8 wps, loss = 3.838\n",
      "[batch 243]: seen 610000 words at 15190.4 wps, loss = 3.835\n",
      "[batch 304]: seen 762500 words at 15174.0 wps, loss = 3.834\n",
      "[batch 365]: seen 915000 words at 15180.7 wps, loss = 3.831\n",
      "[epoch 6] Completed in 0:01:03\n",
      "[epoch 6] Train set: avg. loss: 5.063  (perplexity: 158.00)\n",
      "[epoch 6] Test set: avg. loss: 5.150  (perplexity: 172.50)\n",
      "\n",
      "[epoch 7] Starting epoch 7\n",
      "[batch 60]: seen 152500 words at 15103.3 wps, loss = 3.817\n",
      "[batch 121]: seen 305000 words at 15079.5 wps, loss = 3.808\n",
      "[batch 182]: seen 457500 words at 15089.8 wps, loss = 3.807\n",
      "[batch 243]: seen 610000 words at 15098.6 wps, loss = 3.803\n",
      "[batch 304]: seen 762500 words at 15104.3 wps, loss = 3.802\n",
      "[batch 365]: seen 915000 words at 15106.6 wps, loss = 3.800\n",
      "[epoch 7] Completed in 0:01:04\n",
      "[epoch 7] Train set: avg. loss: 5.028  (perplexity: 152.57)\n",
      "[epoch 7] Test set: avg. loss: 5.125  (perplexity: 168.23)\n",
      "\n",
      "[epoch 8] Starting epoch 8\n",
      "[batch 60]: seen 152500 words at 15071.9 wps, loss = 3.784\n",
      "[batch 120]: seen 302500 words at 15034.9 wps, loss = 3.776\n",
      "[batch 181]: seen 455000 words at 15043.0 wps, loss = 3.775\n",
      "[batch 241]: seen 605000 words at 15028.2 wps, loss = 3.774\n",
      "[batch 302]: seen 757500 words at 15036.9 wps, loss = 3.773\n",
      "[batch 363]: seen 910000 words at 15047.5 wps, loss = 3.771\n",
      "[epoch 8] Completed in 0:01:04\n",
      "[epoch 8] Train set: avg. loss: 4.994  (perplexity: 147.58)\n",
      "[epoch 8] Test set: avg. loss: 5.103  (perplexity: 164.54)\n",
      "\n",
      "[epoch 9] Starting epoch 9\n",
      "[batch 60]: seen 152500 words at 15121.9 wps, loss = 3.764\n",
      "[batch 121]: seen 305000 words at 15108.6 wps, loss = 3.755\n",
      "[batch 182]: seen 457500 words at 15117.8 wps, loss = 3.754\n",
      "[batch 243]: seen 610000 words at 15129.2 wps, loss = 3.752\n",
      "[batch 303]: seen 760000 words at 15089.7 wps, loss = 3.751\n",
      "[batch 363]: seen 910000 words at 15060.4 wps, loss = 3.749\n",
      "[epoch 9] Completed in 0:01:04\n",
      "[epoch 9] Train set: avg. loss: 4.964  (perplexity: 143.19)\n",
      "[epoch 9] Test set: avg. loss: 5.085  (perplexity: 161.53)\n",
      "\n",
      "[epoch 10] Starting epoch 10\n",
      "[batch 60]: seen 152500 words at 15036.8 wps, loss = 3.734\n",
      "[batch 121]: seen 305000 words at 15058.6 wps, loss = 3.729\n",
      "[batch 182]: seen 457500 words at 15064.5 wps, loss = 3.727\n",
      "[batch 243]: seen 610000 words at 15061.7 wps, loss = 3.728\n",
      "[batch 304]: seen 762500 words at 15071.7 wps, loss = 3.729\n",
      "[batch 365]: seen 915000 words at 15073.3 wps, loss = 3.727\n",
      "[epoch 10] Completed in 0:01:04\n",
      "[epoch 10] Train set: avg. loss: 4.939  (perplexity: 139.67)\n",
      "[epoch 10] Test set: avg. loss: 5.070  (perplexity: 159.13)\n",
      "\n"
     ]
    }
   ],
   "source": [
    "# Will print status every this many seconds\n",
    "print_interval = 5\n",
    "\n",
    "lm = rnnlm.RNNLM(**model_params)\n",
    "lm.BuildCoreGraph()\n",
    "lm.BuildTrainGraph()\n",
    "\n",
    "# Explicitly add global initializer and variable saver to LM graph\n",
    "with lm.graph.as_default():\n",
    "    initializer = tf.global_variables_initializer()\n",
    "    saver = tf.train.Saver()\n",
    "    \n",
    "# Clear old log directory\n",
    "shutil.rmtree(TF_SAVEDIR, ignore_errors=True)\n",
    "if not os.path.isdir(TF_SAVEDIR):\n",
    "    os.makedirs(TF_SAVEDIR)\n",
    "\n",
    "with tf.Session(graph=lm.graph) as session:\n",
    "    # Seed RNG for repeatability\n",
    "    tf.set_random_seed(42)\n",
    "\n",
    "    session.run(initializer)\n",
    "\n",
    "    for epoch in range(1,num_epochs+1):\n",
    "        t0_epoch = time.time()\n",
    "        bi = utils.rnnlm_batch_generator(train_ids, batch_size, max_time)\n",
    "        print(\"[epoch {:d}] Starting epoch {:d}\".format(epoch, epoch))\n",
    "        #### YOUR CODE HERE ####\n",
    "        # Run a training epoch.\n",
    "        #TODO : Vary tick_s\n",
    "        run_epoch(lm, session, batch_iterator = bi,\n",
    "              train=True, verbose=True,\n",
    "              tick_s=10, learning_rate=learning_rate)\n",
    "\n",
    "        #### END(YOUR CODE) ####\n",
    "        print(\"[epoch {:d}] Completed in {:s}\".format(epoch, utils.pretty_timedelta(since=t0_epoch)))\n",
    "    \n",
    "        # Save a checkpoint\n",
    "        saver.save(session, checkpoint_filename, global_step=epoch)\n",
    "    \n",
    "        ##\n",
    "        # score_dataset will run a forward pass over the entire dataset\n",
    "        # and report perplexity scores. This can be slow (around 1/2 to \n",
    "        # 1/4 as long as a full epoch), so you may want to comment it out\n",
    "        # to speed up training on a slow machine. Be sure to run it at the \n",
    "        # end to evaluate your score.\n",
    "        print(\"[epoch {:d}]\".format(epoch), end=\" \")\n",
    "        score_dataset(lm, session, train_ids, name=\"Train set\")\n",
    "        print(\"[epoch {:d}]\".format(epoch), end=\" \")\n",
    "        score_dataset(lm, session, test_ids, name=\"Test set\")\n",
    "        print(\"\")\n",
    "    \n",
    "    # Save final model\n",
    "    saver.save(session, trained_filename)"
   ]
  },
  {
   "cell_type": "markdown",
   "metadata": {},
   "source": [
    "## (d) Sampling Sentences (5 points)\n",
    "\n",
    "If you didn't already in **part (b)**, implement the `BuildSamplerGraph()` method in `rnnlm.py` See the function docstring for more information.\n",
    "\n",
    "#### Implement the `sample_step()` method below (5 points)\n",
    "This should access the Tensors you create in `BuildSamplerGraph()`. Given an input batch and initial states, it should return a vector of shape `[batch_size,1]` containing sampled indices for the next word of each batch sequence.\n",
    "\n",
    "Run the method using the provided code to generate 10 sentences."
   ]
  },
  {
   "cell_type": "code",
   "execution_count": 22,
   "metadata": {},
   "outputs": [],
   "source": [
    "def sample_step(lm, session, input_w, initial_h):\n",
    "    \"\"\"Run a single RNN step and return sampled predictions.\n",
    "  \n",
    "    Args:\n",
    "      lm : rnnlm.RNNLM\n",
    "      session: tf.Session\n",
    "      input_w : [batch_size] vector of indices\n",
    "      initial_h : [batch_size, hidden_dims] initial state\n",
    "    \n",
    "    Returns:\n",
    "      final_h : final hidden state, compatible with initial_h\n",
    "      samples : [batch_size, 1] vector of indices\n",
    "    \"\"\"\n",
    "    # Reshape input to column vector\n",
    "    input_w = np.array(input_w, dtype=np.int32).reshape([-1,1])\n",
    "  \n",
    "    #### YOUR CODE HERE ####\n",
    "    # Run sample ops\n",
    "    feed_dict = {\n",
    "        lm.input_w_: input_w,\n",
    "        lm.initial_h_: initial_h\n",
    "    }\n",
    "\n",
    "    final_h, samples = session.run(\n",
    "        [lm.final_h_, lm.pred_samples_], \n",
    "        feed_dict=feed_dict)\n",
    "\n",
    "    #### END(YOUR CODE) ####\n",
    "    # Note indexing here: \n",
    "    #   [batch_size, max_time, 1] -> [batch_size, 1]\n",
    "    return final_h, samples[:,-1,:]"
   ]
  },
  {
   "cell_type": "code",
   "execution_count": 23,
   "metadata": {},
   "outputs": [
    {
     "name": "stdout",
     "output_type": "stream",
     "text": [
      "INFO:tensorflow:Restoring parameters from /tmp/w266/a4_model/rnnlm_trained\n",
      "<s> he waited at the same truth . <s> \n",
      "<s> ( DG ) the film of spirit , world boundary as a <unk> acceptance of theological masses immediately of this \n",
      "<s> inevitable was very human attorney guests had had the hope of <unk> upon the 7th client of those <unk> , \n",
      "<s> scott , <unk> , <unk> . <s> \n",
      "<s> it was <unk> to acquire the lead by humor for the load by the <unk> not strictly measured to the \n",
      "<s> was the reason get . <s> \n",
      "<s> the revival of <unk> clay became , . <s> \n",
      "<s> then in the <unk> chapter of DGDGDGDG readily also as small in half <unk> . <s> \n",
      "<s> she scattered the service words on their troops and did sarah do to describe the club of a scratch at \n",
      "<s> more and rome had been then not when he spade already didn't imagine that started it . <s> \n"
     ]
    }
   ],
   "source": [
    "# Same as above, but as a batch\n",
    "max_steps = 20\n",
    "num_samples = 10\n",
    "random_seed = 42\n",
    "\n",
    "lm = rnnlm.RNNLM(**model_params)\n",
    "lm.BuildCoreGraph()\n",
    "lm.BuildSamplerGraph()\n",
    "\n",
    "with lm.graph.as_default():\n",
    "    saver = tf.train.Saver()\n",
    "\n",
    "with tf.Session(graph=lm.graph) as session:\n",
    "    # Seed RNG for repeatability\n",
    "    tf.set_random_seed(random_seed)\n",
    "    \n",
    "    # Load the trained model\n",
    "    saver.restore(session, trained_filename)\n",
    "\n",
    "    # Make initial state for a batch with batch_size = num_samples\n",
    "    w = np.repeat([[vocab.START_ID]], num_samples, axis=0)\n",
    "    h = session.run(lm.initial_h_, {lm.input_w_: w})\n",
    "    # We'll take one step for each sequence on each iteration \n",
    "    for i in range(max_steps):\n",
    "        h, y = sample_step(lm, session, w[:,-1:], h)\n",
    "        w = np.hstack((w,y))\n",
    "\n",
    "    # Print generated sentences\n",
    "    for row in w:\n",
    "        for i, word_id in enumerate(row):\n",
    "            print(vocab.id_to_word[word_id], end=\" \")\n",
    "            if (i != 0) and (word_id == vocab.START_ID):\n",
    "                break\n",
    "        print(\"\")"
   ]
  },
  {
   "cell_type": "markdown",
   "metadata": {},
   "source": [
    "## (e) Linguistic Properties (5 points)\n",
    "\n",
    "Now that we've trained our RNNLM, let's test a few properties of the model to see how well it learns linguistic phenomena. We'll do this with a scoring task: given two or more test sentences, our model should score the more plausible (or more correct) sentence with a higher log-probability.\n",
    "\n",
    "We'll define a scoring function to help us:"
   ]
  },
  {
   "cell_type": "code",
   "execution_count": 24,
   "metadata": {},
   "outputs": [],
   "source": [
    "def score_seq(lm, session, seq, vocab):\n",
    "    \"\"\"Score a sequence of words. Returns total log-probability.\"\"\"\n",
    "    padded_ids = vocab.words_to_ids(utils.canonicalize_words([\"<s>\"] + seq + [\"</s>\"], \n",
    "                                                             wordset=vocab.word_to_id))\n",
    "    w = np.reshape(padded_ids[:-1], [1,-1])\n",
    "    y = np.reshape(padded_ids[1:],  [1,-1])\n",
    "    h = session.run(lm.initial_h_, {lm.input_w_: w})\n",
    "    feed_dict = {lm.input_w_:w,\n",
    "                 lm.target_y_:y,\n",
    "                 lm.initial_h_:h,\n",
    "                 lm.dropout_keep_prob_: 1.0}\n",
    "    # Return log(P(seq)) = -1*loss\n",
    "    return -1*session.run(lm.loss_, feed_dict)\n",
    "\n",
    "def load_and_score(inputs, sort=False):\n",
    "    \"\"\"Load the trained model and score the given words.\"\"\"\n",
    "    lm = rnnlm.RNNLM(**model_params)\n",
    "    lm.BuildCoreGraph()\n",
    "    \n",
    "    with lm.graph.as_default():\n",
    "        saver = tf.train.Saver()\n",
    "\n",
    "    with tf.Session(graph=lm.graph) as session:  \n",
    "        # Load the trained model\n",
    "        saver.restore(session, trained_filename)\n",
    "\n",
    "        if isinstance(inputs[0], str) or isinstance(inputs[0], bytes):\n",
    "            inputs = [inputs]\n",
    "\n",
    "        # Actually run scoring\n",
    "        results = []\n",
    "        for words in inputs:\n",
    "            score = score_seq(lm, session, words, vocab)\n",
    "            results.append((score, words))\n",
    "\n",
    "        # Sort if requested\n",
    "        if sort: results = sorted(results, reverse=True)\n",
    "\n",
    "        # Print results\n",
    "        for score, words in results:\n",
    "            print(\"\\\"{:s}\\\" : {:.02f}\".format(\" \".join(words), score))"
   ]
  },
  {
   "cell_type": "markdown",
   "metadata": {},
   "source": [
    "Now we can test as:"
   ]
  },
  {
   "cell_type": "code",
   "execution_count": 25,
   "metadata": {},
   "outputs": [
    {
     "name": "stdout",
     "output_type": "stream",
     "text": [
      "INFO:tensorflow:Restoring parameters from /tmp/w266/a4_model/rnnlm_trained\n",
      "\"once upon a time\" : -8.26\n",
      "\"the quick brown fox jumps over the lazy dog\" : -7.84\n"
     ]
    }
   ],
   "source": [
    "sents = [\"once upon a time\",\n",
    "         \"the quick brown fox jumps over the lazy dog\"]\n",
    "load_and_score([s.split() for s in sents])"
   ]
  },
  {
   "cell_type": "markdown",
   "metadata": {},
   "source": [
    "### 1. Number agreement\n",
    "\n",
    "Compare **\"the boy and the girl [are/is]\"**. Which is more plausible according to your model?\n",
    "\n",
    "If your model doesn't order them correctly (*this is OK*), why do you think that might be? (answer in cell below)"
   ]
  },
  {
   "cell_type": "code",
   "execution_count": 26,
   "metadata": {},
   "outputs": [
    {
     "name": "stdout",
     "output_type": "stream",
     "text": [
      "INFO:tensorflow:Restoring parameters from /tmp/w266/a4_model/rnnlm_trained\n",
      "\"the boy and the girl are\" : -6.06\n",
      "\"the boy and the girl is\" : -5.97\n"
     ]
    }
   ],
   "source": [
    "#### YOUR CODE HERE ####\n",
    "sents = [\"the boy and the girl are\",\n",
    "         \"the boy and the girl is\"]\n",
    "load_and_score([s.split() for s in sents])\n",
    "\n",
    "#### END(YOUR CODE) ####"
   ]
  },
  {
   "cell_type": "markdown",
   "metadata": {},
   "source": [
    "#### Answer to part 1. question(s)\n",
    "\n",
    "The \"are\" sentence is more likely. Maybe the model training is not good on grammar."
   ]
  },
  {
   "cell_type": "markdown",
   "metadata": {},
   "source": [
    "### 2. Type/semantic agreement\n",
    "\n",
    "Compare:\n",
    "- **\"peanuts are my favorite kind of [nut/vegetable]\"**\n",
    "- **\"when I'm hungry I really prefer to [eat/drink]\"**\n",
    "\n",
    "Of each pair, which is more plausible according to your model?\n",
    "\n",
    "How would you expect a 3-gram language model to perform at this example? How about a 5-gram model? (answer in cell below)"
   ]
  },
  {
   "cell_type": "code",
   "execution_count": 27,
   "metadata": {},
   "outputs": [
    {
     "name": "stdout",
     "output_type": "stream",
     "text": [
      "INFO:tensorflow:Restoring parameters from /tmp/w266/a4_model/rnnlm_trained\n",
      "\"peanuts are my favorite kind of nut\" : -7.33\n",
      "\"peanuts are my favorite kind of vegetable\" : -7.08\n",
      "INFO:tensorflow:Restoring parameters from /tmp/w266/a4_model/rnnlm_trained\n",
      "\"when I'm hungry I really prefer to eat\" : -7.55\n",
      "\"when I'm hungry I really prefer to drink\" : -7.52\n"
     ]
    }
   ],
   "source": [
    "#### YOUR CODE HERE ####\n",
    "\n",
    "sents = [\"peanuts are my favorite kind of nut\",\n",
    "         \"peanuts are my favorite kind of vegetable\"]\n",
    "load_and_score([s.split() for s in sents])\n",
    "\n",
    "sents = [\"when I'm hungry I really prefer to eat\",\n",
    "         \"when I'm hungry I really prefer to drink\"]\n",
    "load_and_score([s.split() for s in sents])\n",
    "\n",
    "#### END(YOUR CODE) ####"
   ]
  },
  {
   "cell_type": "markdown",
   "metadata": {},
   "source": [
    "#### Answer to part 2. question(s)\n",
    "\n",
    "A 3-gram and 5-gram model will both perform equally bad. This is because the subject(peanut) is 7 words away from \"nut\"."
   ]
  },
  {
   "cell_type": "markdown",
   "metadata": {},
   "source": [
    "### 3. Adjective ordering (just for fun)\n",
    "\n",
    "Let's repeat the exercise from Week 2:\n",
    "\n",
    "![Adjective Order](adjective_order.jpg)\n",
    "*source: https://twitter.com/MattAndersonBBC/status/772002757222002688?lang=en*\n",
    "\n",
    "We'll consider a toy example (literally), and consider all possible adjective permutations.\n",
    "\n",
    "Note that this is somewhat sensitive to training, and even a good language model might not get it all correct. Why might the NN fail, if the trigram model from Week 2 was able to solve it?"
   ]
  },
  {
   "cell_type": "code",
   "execution_count": 28,
   "metadata": {},
   "outputs": [
    {
     "name": "stdout",
     "output_type": "stream",
     "text": [
      "INFO:tensorflow:Restoring parameters from /tmp/w266/a4_model/rnnlm_trained\n",
      "\"I have lots of square green plastic toys\" : -8.49\n",
      "\"I have lots of green square plastic toys\" : -8.52\n",
      "\"I have lots of square plastic green toys\" : -8.63\n",
      "\"I have lots of green plastic square toys\" : -8.65\n",
      "\"I have lots of plastic green square toys\" : -8.66\n",
      "\"I have lots of plastic square green toys\" : -8.70\n"
     ]
    }
   ],
   "source": [
    "prefix = \"I have lots of\".split()\n",
    "noun = \"toys\"\n",
    "adjectives = [\"square\", \"green\", \"plastic\"]\n",
    "inputs = []\n",
    "for adjs in itertools.permutations(adjectives):\n",
    "    words = prefix + list(adjs) + [noun]\n",
    "    inputs.append(words)\n",
    "    \n",
    "load_and_score(inputs, sort=True)"
   ]
  },
  {
   "cell_type": "code",
   "execution_count": null,
   "metadata": {},
   "outputs": [],
   "source": []
  }
 ],
 "metadata": {
  "anaconda-cloud": {},
  "kernelspec": {
   "display_name": "Python 3",
   "language": "python",
   "name": "python3"
  },
  "language_info": {
   "codemirror_mode": {
    "name": "ipython",
    "version": 3
   },
   "file_extension": ".py",
   "mimetype": "text/x-python",
   "name": "python",
   "nbconvert_exporter": "python",
   "pygments_lexer": "ipython3",
   "version": "3.6.4"
  },
  "notify_time": "0",
  "varInspector": {
   "cols": {
    "lenName": 16,
    "lenType": 16,
    "lenVar": 40
   },
   "kernels_config": {
    "python": {
     "delete_cmd_postfix": "",
     "delete_cmd_prefix": "del ",
     "library": "var_list.py",
     "varRefreshCmd": "print(var_dic_list())"
    },
    "r": {
     "delete_cmd_postfix": ") ",
     "delete_cmd_prefix": "rm(",
     "library": "var_list.r",
     "varRefreshCmd": "cat(var_dic_list()) "
    }
   },
   "types_to_exclude": [
    "module",
    "function",
    "builtin_function_or_method",
    "instance",
    "_Feature"
   ],
   "window_display": false
  }
 },
 "nbformat": 4,
 "nbformat_minor": 2
}